{
 "cells": [
  {
   "cell_type": "code",
   "execution_count": 71,
   "metadata": {},
   "outputs": [],
   "source": [
    "import numpy as np\n",
    "from utils import Utils\n",
    "from ortools.linear_solver import pywraplp\n"
   ]
  },
  {
   "cell_type": "code",
   "execution_count": 72,
   "metadata": {},
   "outputs": [],
   "source": [
    "num_node = len(Utils.get_instance().data)\n",
    "num_drone = Utils.get_instance().num_drones\n",
    "C_d =  Utils.get_instance().get_nodes_can_served_by_drone() \n"
   ]
  },
  {
   "cell_type": "code",
   "execution_count": 116,
   "metadata": {},
   "outputs": [
    {
     "data": {
      "text/plain": [
       "[[0.0,\n",
       "  4.5,\n",
       "  4.3999999999999995,\n",
       "  6.8999999999999995,\n",
       "  3.6,\n",
       "  3.7,\n",
       "  14.2,\n",
       "  10.200000000000001,\n",
       "  3.3,\n",
       "  14.299999999999999],\n",
       " [4.5,\n",
       "  0.0,\n",
       "  3.4999999999999996,\n",
       "  5.999999999999999,\n",
       "  2.5000000000000004,\n",
       "  2.2,\n",
       "  9.7,\n",
       "  9.3,\n",
       "  1.4000000000000001,\n",
       "  9.799999999999999],\n",
       " [4.3999999999999995,\n",
       "  3.4999999999999996,\n",
       "  0.0,\n",
       "  9.5,\n",
       "  6.0,\n",
       "  5.699999999999999,\n",
       "  12.8,\n",
       "  12.8,\n",
       "  4.9,\n",
       "  10.299999999999999],\n",
       " [6.8999999999999995,\n",
       "  5.999999999999999,\n",
       "  9.5,\n",
       "  0.0,\n",
       "  3.4999999999999996,\n",
       "  3.7999999999999994,\n",
       "  7.300000000000001,\n",
       "  3.3000000000000007,\n",
       "  4.6,\n",
       "  7.4],\n",
       " [3.6,\n",
       "  2.5000000000000004,\n",
       "  6.0,\n",
       "  3.4999999999999996,\n",
       "  0.0,\n",
       "  0.30000000000000004,\n",
       "  10.6,\n",
       "  6.8,\n",
       "  1.1,\n",
       "  10.7],\n",
       " [3.7,\n",
       "  2.2,\n",
       "  5.699999999999999,\n",
       "  3.7999999999999994,\n",
       "  0.30000000000000004,\n",
       "  0.0,\n",
       "  10.5,\n",
       "  7.1000000000000005,\n",
       "  0.8000000000000002,\n",
       "  10.6],\n",
       " [14.2,\n",
       "  9.7,\n",
       "  12.8,\n",
       "  7.300000000000001,\n",
       "  10.6,\n",
       "  10.5,\n",
       "  0.0,\n",
       "  4.0,\n",
       "  10.9,\n",
       "  2.5000000000000013],\n",
       " [10.200000000000001,\n",
       "  9.3,\n",
       "  12.8,\n",
       "  3.3000000000000007,\n",
       "  6.8,\n",
       "  7.1000000000000005,\n",
       "  4.0,\n",
       "  0.0,\n",
       "  7.9,\n",
       "  4.1],\n",
       " [3.3,\n",
       "  1.4000000000000001,\n",
       "  4.9,\n",
       "  4.6,\n",
       "  1.1,\n",
       "  0.8000000000000002,\n",
       "  10.9,\n",
       "  7.9,\n",
       "  0.0,\n",
       "  11.0],\n",
       " [14.299999999999999,\n",
       "  9.799999999999999,\n",
       "  10.299999999999999,\n",
       "  7.4,\n",
       "  10.7,\n",
       "  10.6,\n",
       "  2.5000000000000013,\n",
       "  4.1,\n",
       "  11.0,\n",
       "  0.0]]"
      ]
     },
     "execution_count": 116,
     "metadata": {},
     "output_type": "execute_result"
    }
   ],
   "source": [
    "drone_time_matrix = Utils.get_instance().cal_drone_time_matrix()\n",
    "truck_time_matrix = Utils.get_instance().cal_truck_time_matrix()\n",
    "\n",
    "truck_time_matrix"
   ]
  },
  {
   "cell_type": "code",
   "execution_count": 74,
   "metadata": {},
   "outputs": [
    {
     "ename": "SyntaxError",
     "evalue": "invalid syntax (<ipython-input-74-c388720c7784>, line 1)",
     "output_type": "error",
     "traceback": [
      "\u001b[0;36m  File \u001b[0;32m\"<ipython-input-74-c388720c7784>\"\u001b[0;36m, line \u001b[0;32m1\u001b[0m\n\u001b[0;31m    def solveTSP()\u001b[0m\n\u001b[0m                  ^\u001b[0m\n\u001b[0;31mSyntaxError\u001b[0m\u001b[0;31m:\u001b[0m invalid syntax\n"
     ]
    }
   ],
   "source": [
    "def solveTSP()\n",
    "def solvePMS()"
   ]
  },
  {
   "cell_type": "code",
   "execution_count": 113,
   "metadata": {},
   "outputs": [],
   "source": [
    "class Tour():\n",
    "    \n",
    "    cities = []\n",
    "    def __init__(self, nodes):\n",
    "        \n",
    "        self.cities = nodes\n",
    "       \n",
    "    def add_city(self, city):\n",
    "        self.cities.append(city)\n",
    "    \n",
    "    def length(self):\n",
    "        return len(self.cities)\n",
    "    \n",
    "    def cost(self, truck_time_matrix):\n",
    "        sum = 0\n",
    "        for i in range(1, len(self.cities)):\n",
    "            sum += truck_time_matrix[self.cities[i-1]][self.cities[i]]\n",
    "        return sum\n",
    "        \n",
    "    \n",
    " \n",
    "    "
   ]
  },
  {
   "cell_type": "code",
   "execution_count": 123,
   "metadata": {},
   "outputs": [
    {
     "data": {
      "text/plain": [
       "4.5"
      ]
     },
     "execution_count": 123,
     "metadata": {},
     "output_type": "execute_result"
    }
   ],
   "source": [
    "t = Tour((0,1))\n",
    "\n",
    "t.cost(truck_time_matrix)\n",
    "\n"
   ]
  },
  {
   "cell_type": "code",
   "execution_count": 1,
   "metadata": {},
   "outputs": [
    {
     "ename": "NameError",
     "evalue": "name 'Utils' is not defined",
     "output_type": "error",
     "traceback": [
      "\u001b[0;31m---------------------------------------------------------------------------\u001b[0m",
      "\u001b[0;31mNameError\u001b[0m                                 Traceback (most recent call last)",
      "\u001b[0;32m<ipython-input-1-cd634ce33ee5>\u001b[0m in \u001b[0;36m<module>\u001b[0;34m\u001b[0m\n\u001b[0;32m----> 1\u001b[0;31m \u001b[0mUtils\u001b[0m\u001b[0;34m.\u001b[0m\u001b[0mget_instance\u001b[0m\u001b[0;34m(\u001b[0m\u001b[0;34m)\u001b[0m\u001b[0;34m.\u001b[0m\u001b[0mcal_time2serve_by_truck\u001b[0m\u001b[0;34m(\u001b[0m\u001b[0mt\u001b[0m\u001b[0;34m.\u001b[0m\u001b[0mcities\u001b[0m\u001b[0;34m,\u001b[0m \u001b[0mnew_method\u001b[0m \u001b[0;34m=\u001b[0m \u001b[0;32mFalse\u001b[0m\u001b[0;34m)\u001b[0m\u001b[0;34m\u001b[0m\u001b[0;34m\u001b[0m\u001b[0m\n\u001b[0m",
      "\u001b[0;31mNameError\u001b[0m: name 'Utils' is not defined"
     ]
    }
   ],
   "source": [
    "Utils.get_instance().cal_time2serve_by_truck(t.cities, new_method = False)\n"
   ]
  },
  {
   "cell_type": "code",
   "execution_count": 120,
   "metadata": {},
   "outputs": [],
   "source": [
    "N_d = Utils.get_instance().get_nodes_can_served_by_drone()"
   ]
  },
  {
   "cell_type": "code",
   "execution_count": 52,
   "metadata": {},
   "outputs": [
    {
     "data": {
      "text/plain": [
       "[1, 6, 8]"
      ]
     },
     "execution_count": 52,
     "metadata": {},
     "output_type": "execute_result"
    }
   ],
   "source": [
    "N_d"
   ]
  },
  {
   "cell_type": "code",
   "execution_count": null,
   "metadata": {},
   "outputs": [],
   "source": []
  }
 ],
 "metadata": {
  "kernelspec": {
   "display_name": "Python 3",
   "language": "python",
   "name": "python3"
  },
  "language_info": {
   "codemirror_mode": {
    "name": "ipython",
    "version": 3
   },
   "file_extension": ".py",
   "mimetype": "text/x-python",
   "name": "python",
   "nbconvert_exporter": "python",
   "pygments_lexer": "ipython3",
   "version": "3.8.5"
  }
 },
 "nbformat": 4,
 "nbformat_minor": 4
}
